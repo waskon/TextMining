{
 "cells": [
  {
   "cell_type": "markdown",
   "metadata": {},
   "source": [
    "### Import bibliotek"
   ]
  },
  {
   "cell_type": "code",
   "execution_count": 1,
   "metadata": {},
   "outputs": [],
   "source": [
    "import json\n",
    "import string\n",
    "import morfeusz2\n",
    "import itertools as it\n",
    "import operator as op\n",
    "from nltk.corpus import PlaintextCorpusReader\n",
    "from nltk.tokenize import word_tokenize\n"
   ]
  },
  {
   "cell_type": "markdown",
   "metadata": {},
   "source": [
    "1. Utworzenie korpusu dokumentów"
   ]
  },
  {
   "cell_type": "code",
   "execution_count": 3,
   "metadata": {},
   "outputs": [
    {
     "data": {
      "text/plain": [
       "['Harry Potter i Czara Ognia.txt',\n",
       " 'Harry Potter i Insygnia Smierci.txt',\n",
       " 'Harry Potter i Kamien Filozoficzny.txt',\n",
       " 'Harry Potter i Komnata Tajemnic.txt',\n",
       " 'Harry Potter i Ksiaze Polkrwi.txt',\n",
       " 'Harry Potter i Przeklete Dziecko.txt',\n",
       " 'Harry Potter i Wiezien Azkabanu.txt',\n",
       " 'Harry Potter i Zakon Feniksa.txt',\n",
       " 'Opowiesci z Narni. Kon i jego chlopiec.txt',\n",
       " 'Opowiesci z Narni. Ksiaze Kaspian.txt',\n",
       " 'Opowiesci z Narni. Lew, czarownica i stara szafa.txt',\n",
       " 'Opowiesci z Narni. Ostatnia bitwa.txt',\n",
       " 'Opowiesci z Narni. Podroz Wedrowca do Switu.txt',\n",
       " 'Opowiesci z Narni. Siostrzeniec Czarodzieja.txt',\n",
       " 'Opowiesci z Narni. Srebrne krzeslo.txt',\n",
       " 'Zmierzch.Ksiezyc w Nowiu.txt',\n",
       " 'Zmierzch.Przed Switem.txt',\n",
       " 'Zmierzch.Zacmienie.txt',\n",
       " 'Zmierzch.Zmierzch.txt',\n",
       " 'Zmierzch.Zycie i Smierc.txt']"
      ]
     },
     "execution_count": 3,
     "metadata": {},
     "output_type": "execute_result"
    }
   ],
   "source": [
    "corpus_dir = \"./literatura\"\n",
    "corpus = PlaintextCorpusReader(corpus_dir, \".*\\.txt\")\n",
    "files = corpus.fileids()\n",
    "files"
   ]
  },
  {
   "cell_type": "markdown",
   "metadata": {},
   "source": [
    "2.  Wstępne przygotowanie dokumentów"
   ]
  },
  {
   "cell_type": "code",
   "execution_count": null,
   "metadata": {},
   "outputs": [],
   "source": [
    "documents"
   ]
  }
 ],
 "metadata": {
  "kernelspec": {
   "display_name": ".venv",
   "language": "python",
   "name": "python3"
  },
  "language_info": {
   "codemirror_mode": {
    "name": "ipython",
    "version": 3
   },
   "file_extension": ".py",
   "mimetype": "text/x-python",
   "name": "python",
   "nbconvert_exporter": "python",
   "pygments_lexer": "ipython3",
   "version": "3.11.4"
  }
 },
 "nbformat": 4,
 "nbformat_minor": 2
}
